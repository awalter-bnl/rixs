{
 "cells": [
  {
   "cell_type": "code",
   "execution_count": null,
   "metadata": {},
   "outputs": [],
   "source": [
    "import numpy as np\n",
    "from matplotlib import pyplot as plt\n",
    "from rixs.plotting_functions import plot_scatter, plot_pcolor, plot_curvature\n",
    "from rixs import process2d\n",
    "from rixs.tests.test_process2d import make_fake_image\n",
    "\n",
    "%matplotlib widget"
   ]
  },
  {
   "cell_type": "code",
   "execution_count": null,
   "metadata": {},
   "outputs": [],
   "source": [
    "%matplotlib widget"
   ]
  },
  {
   "cell_type": "markdown",
   "metadata": {},
   "source": [
    "## Make fake data"
   ]
  },
  {
   "cell_type": "code",
   "execution_count": null,
   "metadata": {},
   "outputs": [],
   "source": [
    "fake_curvature = np.array([0.00001, 0.04, 0.])\n",
    "photon_events = make_fake_image(fake_curvature, 1000)"
   ]
  },
  {
   "cell_type": "markdown",
   "metadata": {},
   "source": [
    "## Display data in scatterplot"
   ]
  },
  {
   "cell_type": "code",
   "execution_count": null,
   "metadata": {},
   "outputs": [],
   "source": [
    "fig, ax = plt.subplots()\n",
    "\n",
    "art = plot_scatter(ax, photon_events)\n",
    "ax.set_xlabel('x')\n",
    "ax.set_ylabel('y')"
   ]
  },
  {
   "cell_type": "markdown",
   "metadata": {},
   "source": [
    "## Display data as image"
   ]
  },
  {
   "cell_type": "code",
   "execution_count": null,
   "metadata": {},
   "outputs": [],
   "source": [
    "fig, ax1 = plt.subplots()\n",
    "art, cb_artist = plot_pcolor(ax1, photon_events, bins=(500, 500))\n",
    "ax1.set_xlabel('x')\n",
    "ax1.set_ylabel('y')\n",
    "cb_artist.set_label('Intensity (Photons)')"
   ]
  },
  {
   "cell_type": "markdown",
   "metadata": {},
   "source": [
    "## Fit curvature"
   ]
  },
  {
   "cell_type": "code",
   "execution_count": null,
   "metadata": {},
   "outputs": [],
   "source": [
    "curvature = process2d.fit_curvature(photon_events, [0, 0, 0])\n",
    "# N.B. guess defines order of polynominal for curvature\n",
    "\n",
    "fake_list = [\"{:.3e}*x^{}\".format(val, len(curvature)-i-1) for i, val in enumerate(curvature)]\n",
    "fit_list = [\"{:.3e}*x^{}\".format(val, len(curvature)-i-1) for i, val in enumerate(curvature)]\n",
    "print(\"Fake\\t\" + \"\\t\".join(fake_list))\n",
    "print(\"Fit\\t\" + \"\\t\".join(fit_list))"
   ]
  },
  {
   "cell_type": "markdown",
   "metadata": {},
   "source": [
    "\n",
    "## Plot curvature"
   ]
  },
  {
   "cell_type": "code",
   "execution_count": null,
   "metadata": {},
   "outputs": [],
   "source": [
    "fig, ax3 = plt.subplots()\n",
    "\n",
    "elastic_y_value = process2d.estimate_elastic_pos(photon_events, x_range=(0, 50))\n",
    "curvature_offset = curvature.copy()\n",
    "curvature_offset[-1] = elastic_y_value\n",
    "\n",
    "art = plot_scatter(ax3, photon_events, pointsize=2, alpha=0.3)\n",
    "plot_curvature(ax3, curvature_offset, photon_events)"
   ]
  },
  {
   "cell_type": "markdown",
   "metadata": {},
   "source": [
    "## Bin into spectrum"
   ]
  },
  {
   "cell_type": "code",
   "execution_count": null,
   "metadata": {},
   "outputs": [],
   "source": [
    "fig, ax4 = plt.subplots()\n",
    "\n",
    "spectrum = process2d.apply_curvature(photon_events, curvature)\n",
    "\n",
    "ax4.plot(spectrum[:, 0], spectrum[:, 1])\n",
    "ax4.set_xlabel('y')\n",
    "ax4.set_ylabel('Photons')"
   ]
  },
  {
   "cell_type": "code",
   "execution_count": null,
   "metadata": {},
   "outputs": [],
   "source": []
  }
 ],
 "metadata": {
  "kernelspec": {
   "display_name": "Python (mark_six)",
   "language": "python",
   "name": "mark_six"
  },
  "language_info": {
   "codemirror_mode": {
    "name": "ipython",
    "version": 3
   },
   "file_extension": ".py",
   "mimetype": "text/x-python",
   "name": "python",
   "nbconvert_exporter": "python",
   "pygments_lexer": "ipython3",
   "version": "3.6.5"
  }
 },
 "nbformat": 4,
 "nbformat_minor": 2
}
