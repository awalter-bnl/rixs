{
 "cells": [
  {
   "cell_type": "code",
   "execution_count": 10,
   "metadata": {},
   "outputs": [],
   "source": [
    "import numpy as np\n",
    "from matplotlib import pyplot as plt\n",
    "from rixs import process2d\n",
    "\n",
    "%matplotlib widget"
   ]
  },
  {
   "cell_type": "code",
   "execution_count": 11,
   "metadata": {},
   "outputs": [],
   "source": [
    "%matplotlib widget"
   ]
  },
  {
   "cell_type": "markdown",
   "metadata": {},
   "source": [
    "## Make fake data"
   ]
  },
  {
   "cell_type": "code",
   "execution_count": 13,
   "metadata": {},
   "outputs": [],
   "source": [
    "fake_curvature = dict(x0=1000, x1=0.04, x2=0.00001)\n",
    "photon_events = process2d.make_fake_image(**fake_curvature)"
   ]
  },
  {
   "cell_type": "markdown",
   "metadata": {},
   "source": [
    "## Display data in scatterplot"
   ]
  },
  {
   "cell_type": "code",
   "execution_count": 14,
   "metadata": {},
   "outputs": [
    {
     "name": "stderr",
     "output_type": "stream",
     "text": [
      "/home/mdean/my-envs/mark_six/lib/python3.6/site-packages/matplotlib/__init__.py:942: MatplotlibDeprecationWarning: nbagg.transparent is deprecated and ignored. Use figure.facecolor instead.\n",
      "  mplDeprecation)\n"
     ]
    },
    {
     "data": {
      "application/vnd.jupyter.widget-view+json": {
       "model_id": "8fa4bce9d9764c8f9bb7b613113599f9",
       "version_major": 2,
       "version_minor": 0
      },
      "text/plain": [
       "FigureCanvasNbAgg()"
      ]
     },
     "metadata": {},
     "output_type": "display_data"
    },
    {
     "data": {
      "text/plain": [
       "Text(0,0.5,'y')"
      ]
     },
     "execution_count": 14,
     "metadata": {},
     "output_type": "execute_result"
    }
   ],
   "source": [
    "fig, ax = plt.subplots()\n",
    "\n",
    "art = process2d.plot_scatter(ax, photon_events)\n",
    "ax.set_xlabel('x')\n",
    "ax.set_ylabel('y')"
   ]
  },
  {
   "cell_type": "markdown",
   "metadata": {},
   "source": [
    "## Display data as image"
   ]
  },
  {
   "cell_type": "code",
   "execution_count": 17,
   "metadata": {},
   "outputs": [
    {
     "name": "stderr",
     "output_type": "stream",
     "text": [
      "/home/mdean/my-envs/mark_six/lib/python3.6/site-packages/matplotlib/__init__.py:942: MatplotlibDeprecationWarning: nbagg.transparent is deprecated and ignored. Use figure.facecolor instead.\n",
      "  mplDeprecation)\n"
     ]
    },
    {
     "data": {
      "application/vnd.jupyter.widget-view+json": {
       "model_id": "2c32bb9da8bd4b0fb502270df3ed5e95",
       "version_major": 2,
       "version_minor": 0
      },
      "text/plain": [
       "FigureCanvasNbAgg()"
      ]
     },
     "metadata": {},
     "output_type": "display_data"
    }
   ],
   "source": [
    "fig, ax1 = plt.subplots()\n",
    "art, cb_artist = process2d.plot_pcolor(ax1, photon_events, bins=(500, 500))\n",
    "ax1.set_xlabel('x')\n",
    "ax1.set_ylabel('y')\n",
    "cb_artist.set_label('Intensity (Photons)')"
   ]
  },
  {
   "cell_type": "markdown",
   "metadata": {},
   "source": [
    "## Fit curvature"
   ]
  },
  {
   "cell_type": "code",
   "execution_count": 21,
   "metadata": {},
   "outputs": [
    {
     "data": {
      "text/plain": [
       "\u001b[0;31mSignature:\u001b[0m \u001b[0mprocess2d\u001b[0m\u001b[0;34m.\u001b[0m\u001b[0mfit_curvature\u001b[0m\u001b[0;34m(\u001b[0m\u001b[0mphoton_events\u001b[0m\u001b[0;34m,\u001b[0m \u001b[0mbins\u001b[0m\u001b[0;34m=\u001b[0m\u001b[0;32mNone\u001b[0m\u001b[0;34m,\u001b[0m \u001b[0mguess_curvature\u001b[0m\u001b[0;34m=\u001b[0m\u001b[0;34m{\u001b[0m\u001b[0;34m'x2'\u001b[0m\u001b[0;34m:\u001b[0m \u001b[0;36m0.0\u001b[0m\u001b[0;34m,\u001b[0m \u001b[0;34m'x1'\u001b[0m\u001b[0;34m:\u001b[0m \u001b[0;36m0.0\u001b[0m\u001b[0;34m,\u001b[0m \u001b[0;34m'x0'\u001b[0m\u001b[0;34m:\u001b[0m \u001b[0;36m500.0\u001b[0m\u001b[0;34m}\u001b[0m\u001b[0;34m,\u001b[0m \u001b[0mvary_params\u001b[0m\u001b[0;34m=\u001b[0m\u001b[0;34m{\u001b[0m\u001b[0;34m'x2'\u001b[0m\u001b[0;34m:\u001b[0m \u001b[0;32mTrue\u001b[0m\u001b[0;34m,\u001b[0m \u001b[0;34m'x1'\u001b[0m\u001b[0;34m:\u001b[0m \u001b[0;32mTrue\u001b[0m\u001b[0;34m,\u001b[0m \u001b[0;34m'x0'\u001b[0m\u001b[0;34m:\u001b[0m \u001b[0;32mTrue\u001b[0m\u001b[0;34m}\u001b[0m\u001b[0;34m)\u001b[0m\u001b[0;34m\u001b[0m\u001b[0m\n",
       "\u001b[0;31mDocstring:\u001b[0m\n",
       "Get offsets, fit them and return polynomial that defines the curvature\n",
       "\n",
       "Parameters\n",
       "-------------\n",
       "photon_events : array\n",
       "    two column x, y photon location coordinates\n",
       "bins : int or array_like or [int, int] or [array, array]\n",
       "    The bin specification in y then x order:\n",
       "        * If int, the number of bins for the two dimensions (nx=ny=bins).\n",
       "        * If array_like, the bin edges for the two dimensions\n",
       "          (y_edges=x_edges=bins).\n",
       "        * If [int, int], the number of bins in each dimension\n",
       "          (ny, nx = bins).\n",
       "        * If [array, array], the bin edges in each dimension\n",
       "          (y_edges, x_edges = bins).\n",
       "        * A combination [int, array] or [array, int], where int\n",
       "          is the number of bins and array is the bin edges.\n",
       "curvature : dictionary\n",
       "n2d order polynominal coeficients defining\n",
       "curvature\n",
       "{'x^2': coef, 'x1': coef, 'x0': coef}\n",
       "\n",
       "Returns\n",
       "-----------\n",
       "\u001b[0;31mFile:\u001b[0m      ~/software/rixs/rixs/process2d.py\n",
       "\u001b[0;31mType:\u001b[0m      function\n"
      ]
     },
     "metadata": {},
     "output_type": "display_data"
    },
    {
     "name": "stdout",
     "output_type": "stream",
     "text": [
      "Curvature\n",
      "Parameter\tInput \t\t\t Fit\n",
      "x1\t\t4.000e-02\t\t4.080e-02\n",
      "x2\t\t1.000e-05\t\t9.528e-06\n"
     ]
    }
   ],
   "source": [
    "curvature = process2d.fit_curvature(photon_events, bins=None)\n",
    "print(\"Curvature\\nParameter\\tInput \\t\\t\\t Fit\")\n",
    "for comp in ['x1', 'x2']:\n",
    "    print('{}\\t\\t{:.3e}\\t\\t{:.3e}'.format(comp, fake_curvature[comp], curvature[comp]))"
   ]
  },
  {
   "cell_type": "markdown",
   "metadata": {},
   "source": [
    "\n",
    "## Plot curvature"
   ]
  },
  {
   "cell_type": "code",
   "execution_count": 19,
   "metadata": {},
   "outputs": [
    {
     "name": "stderr",
     "output_type": "stream",
     "text": [
      "/home/mdean/my-envs/mark_six/lib/python3.6/site-packages/matplotlib/__init__.py:942: MatplotlibDeprecationWarning: nbagg.transparent is deprecated and ignored. Use figure.facecolor instead.\n",
      "  mplDeprecation)\n"
     ]
    },
    {
     "data": {
      "application/vnd.jupyter.widget-view+json": {
       "model_id": "4ad27f8c13bb4784842d0a05851905ba",
       "version_major": 2,
       "version_minor": 0
      },
      "text/plain": [
       "FigureCanvasNbAgg()"
      ]
     },
     "metadata": {},
     "output_type": "display_data"
    },
    {
     "data": {
      "text/plain": [
       "[<matplotlib.lines.Line2D at 0x7f8821c91940>]"
      ]
     },
     "execution_count": 19,
     "metadata": {},
     "output_type": "execute_result"
    }
   ],
   "source": [
    "fig, ax3 = plt.subplots()\n",
    "\n",
    "elastic_y_value = process2d.estimate_elastic_pos(photon_events, x_range=(0, 50))\n",
    "curvature_offset = curvature.copy()\n",
    "curvature_offset['x0'] = elastic_y_value\n",
    "\n",
    "art = process2d.plot_scatter(ax3, photon_events, pointsize=2, alpha=0.3)\n",
    "process2d.plot_curvature(ax3, curvature_offset, photon_events)"
   ]
  },
  {
   "cell_type": "markdown",
   "metadata": {},
   "source": [
    "## Bin into spectrum"
   ]
  },
  {
   "cell_type": "code",
   "execution_count": 20,
   "metadata": {},
   "outputs": [
    {
     "name": "stderr",
     "output_type": "stream",
     "text": [
      "/home/mdean/my-envs/mark_six/lib/python3.6/site-packages/matplotlib/__init__.py:942: MatplotlibDeprecationWarning: nbagg.transparent is deprecated and ignored. Use figure.facecolor instead.\n",
      "  mplDeprecation)\n"
     ]
    },
    {
     "data": {
      "application/vnd.jupyter.widget-view+json": {
       "model_id": "13d86a1e7eb8465abe628a9cb02e9c46",
       "version_major": 2,
       "version_minor": 0
      },
      "text/plain": [
       "FigureCanvasNbAgg()"
      ]
     },
     "metadata": {},
     "output_type": "display_data"
    },
    {
     "data": {
      "text/plain": [
       "Text(0,0.5,'Photons')"
      ]
     },
     "execution_count": 20,
     "metadata": {},
     "output_type": "execute_result"
    }
   ],
   "source": [
    "fig, ax4 = plt.subplots()\n",
    "\n",
    "curvature['x0'] = 0.\n",
    "spectrum = process2d.extract(photon_events, curvature)\n",
    "\n",
    "ax4.plot(spectrum[:, 0], spectrum[:, 1])\n",
    "ax4.set_xlabel('y')\n",
    "ax4.set_ylabel('Photons')"
   ]
  },
  {
   "cell_type": "code",
   "execution_count": null,
   "metadata": {},
   "outputs": [],
   "source": []
  }
 ],
 "metadata": {
  "kernelspec": {
   "display_name": "Python (mark_six)",
   "language": "python",
   "name": "mark_six"
  },
  "language_info": {
   "codemirror_mode": {
    "name": "ipython",
    "version": 3
   },
   "file_extension": ".py",
   "mimetype": "text/x-python",
   "name": "python",
   "nbconvert_exporter": "python",
   "pygments_lexer": "ipython3",
   "version": "3.6.5"
  }
 },
 "nbformat": 4,
 "nbformat_minor": 2
}
